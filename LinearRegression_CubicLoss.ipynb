{
 "cells": [
  {
   "cell_type": "code",
   "execution_count": 14,
   "id": "add865ba",
   "metadata": {},
   "outputs": [],
   "source": [
    "import numpy as np\n",
    "import random\n",
    "from matplotlib import pyplot as plt"
   ]
  },
  {
   "cell_type": "code",
   "execution_count": 15,
   "id": "2d21e21d",
   "metadata": {},
   "outputs": [],
   "source": [
    "n = 3 #power of loss function\n",
    "size=200  #size of dataset\n",
    "epochs=1000\n",
    "learning_rate=0.0001"
   ]
  },
  {
   "cell_type": "code",
   "execution_count": 16,
   "id": "e02f4aa3",
   "metadata": {},
   "outputs": [],
   "source": [
    "#Generating a random data structure\n",
    "\n",
    "x=5*(np.random.rand(size))+2  #Creates a array of (size) random numbers with mean 5 and Standard deviation 2\n",
    "extra=0.5*(np.random.rand(size))\n",
    "y_real=(10*x)+2+extra      #Real output with some noise\n",
    "# print(x)\n",
    "# print(y_real)"
   ]
  },
  {
   "cell_type": "code",
   "execution_count": 17,
   "id": "188675aa",
   "metadata": {
    "scrolled": true
   },
   "outputs": [
    {
     "name": "stdout",
     "output_type": "stream",
     "text": [
      "parameters :\n",
      "w1 : 10.037795\n",
      "w2 : 1.952773\n"
     ]
    }
   ],
   "source": [
    "#Linear regression model on one input feature(Multiple can also be encorporated in the same way)\n",
    "w1=np.random.rand(1)\n",
    "w2=0\n",
    "\n",
    "#compares whether the y_pred is less than or greater than the y_real (imp step for backpropagation step)\n",
    "def compare(n):\n",
    "    if(n>0):\n",
    "        return 1\n",
    "    else:\n",
    "        return -1\n",
    "    \n",
    "for i in range(epochs):\n",
    "    y_pred=w1*x+w2\n",
    "    loss=pow(abs(y_pred-y_real),n)    #here n is the power of the loss function used\n",
    "    cost=(np.sum(loss))/size\n",
    "#     print(\"cost :\" + str(cost)) \n",
    "\n",
    "    #Backtracking\n",
    "\n",
    "    dw1=(np.dot(n*(pow(abs(y_real-y_pred),(n-1)))*list(map(compare,(y_pred-y_real))),x))/size\n",
    "#     print(dw1)\n",
    "    dw2=(np.sum(n*(pow(abs(y_real-y_pred),(n-1)))*list(map(compare,(y_pred-y_real)))))/size\n",
    "#     print(dw2)\n",
    "\n",
    "    w1=w1-(learning_rate*dw1)\n",
    "#     print(w1)\n",
    "    w2=w2-(learning_rate*dw2)\n",
    "#     print(w2)\n",
    "print(\"parameters :\")\n",
    "print(\"w1 : %f\"%w1)\n",
    "print(\"w2 : %f\"%w2)"
   ]
  },
  {
   "cell_type": "code",
   "execution_count": 18,
   "id": "ad754baf",
   "metadata": {},
   "outputs": [
    {
     "name": "stdout",
     "output_type": "stream",
     "text": [
      "3\n"
     ]
    },
    {
     "data": {
      "image/png": "[encoded data removed]",
      "text/plain": [
       "<Figure size 864x432 with 1 Axes>"
      ]
     },
     "metadata": {
      "needs_background": "light"
     },
     "output_type": "display_data"
    }
   ],
   "source": [
    "#testing the model on trained parameters\n",
    "print(n)\n",
    "test_x=np.random.rand(100)\n",
    "y_actual_test=(10*test_x)+2\n",
    "y_pred_test=w1*test_x+w2\n",
    "\n",
    "#plotting the results\n",
    "plt.figure(figsize=(12, 6))\n",
    "plt.plot(test_x,y_pred_test)\n",
    "plt.plot(test_x,y_actual_test,'ro')\n",
    "plt.title(\"Actual vs Predicted\")\n",
    "plt.xlabel('InputX')\n",
    "plt.ylabel('OutputY')\n",
    "\n",
    "plt.show()"
   ]
  }
 ],
 "metadata": {
  "kernelspec": {
   "display_name": "Python 3",
   "language": "python",
   "name": "python3"
  },
  "language_info": {
   "codemirror_mode": {
    "name": "ipython",
    "version": 3
   },
   "file_extension": ".py",
   "mimetype": "text/x-python",
   "name": "python",
   "nbconvert_exporter": "python",
   "pygments_lexer": "ipython3",
   "version": "3.6.9"
  }
 },
 "nbformat": 4,
 "nbformat_minor": 5
}
